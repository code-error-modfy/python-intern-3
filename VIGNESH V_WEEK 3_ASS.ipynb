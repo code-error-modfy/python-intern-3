{
 "cells": [
  {
   "cell_type": "code",
   "execution_count": 1,
   "id": "3bfc0e23",
   "metadata": {},
   "outputs": [
    {
     "name": "stdout",
     "output_type": "stream",
     "text": [
      "Prime numbers between 10 and 50 are: [11, 13, 17, 19, 23, 29, 31, 37, 41, 43, 47]\n"
     ]
    }
   ],
   "source": [
    "#1\n",
    "def is_prime(number):\n",
    "  \n",
    "   # Function to check if a number is prime.\n",
    "   \n",
    "    if number <= 1:\n",
    "        return False\n",
    "    for i in range(2, int(number ** 0.5) + 1):\n",
    "        if number % i == 0:\n",
    "            return False\n",
    "    return True\n",
    "\n",
    "def find_primes_in_range(start, end):\n",
    "   \n",
    "    #Function to find all prime numbers within a given range.\n",
    "  \n",
    "    primes = []\n",
    "    for num in range(start, end + 1):\n",
    "        if is_prime(num):\n",
    "            primes.append(num)\n",
    "    return primes\n",
    "\n",
    "# Example usage\n",
    "start_range = 10\n",
    "end_range = 50\n",
    "prime_numbers = find_primes_in_range(start_range, end_range)\n",
    "print(f\"Prime numbers between {start_range} and {end_range} are: {prime_numbers}\")\n"
   ]
  },
  {
   "cell_type": "code",
   "execution_count": 11,
   "id": "79047927",
   "metadata": {},
   "outputs": [
    {
     "name": "stdout",
     "output_type": "stream",
     "text": [
      "Fibonacci sequence up to 100 (iterative): [0, 1, 1, 2, 3, 5, 8, 13, 21, 34, 55, 89]\n",
      "Fibonacci sequence up to 100 (recursive): [0, 1, 1, 2, 3, 5, 8, 13, 21, 34, 55, 89]\n"
     ]
    }
   ],
   "source": [
    "#3\n",
    "def fibonacci_iterative(n):\n",
    "    \"\"\"\n",
    "    Function to calculate Fibonacci sequence up to n using an iterative approach.\n",
    "    \"\"\"\n",
    "    fib_sequence = [0, 1]  # first two numbers in the sequence\n",
    "    while fib_sequence[-1] + fib_sequence[-2] <= n:\n",
    "        fib_sequence.append(fib_sequence[-1] + fib_sequence[-2])\n",
    "    return fib_sequence\n",
    "\n",
    "def fibonacci_recursive(n, a=0, b=1, fib_sequence=None):\n",
    "    \"\"\"\n",
    "    Function to calculate Fibonacci sequence up to n using a recursive approach.\n",
    "    \"\"\"\n",
    "    if fib_sequence is None:\n",
    "        fib_sequence = [a, b]  # sequence with the first two numbers\n",
    "\n",
    "    next_number = a + b\n",
    "    if next_number > n:\n",
    "        return fib_sequence\n",
    "    else:\n",
    "        fib_sequence.append(next_number)\n",
    "        return fibonacci_recursive(n, b, next_number, fib_sequence)\n",
    "    \n",
    "n = 100  # Change this value  the Fibonacci sequence\n",
    "\n",
    "# iterative approach\n",
    "iterative_result = fibonacci_iterative(n)\n",
    "print(f\"Fibonacci sequence up to {n} (iterative): {iterative_result}\")\n",
    "\n",
    "# recursive approach\n",
    "recursive_result = fibonacci_recursive(n)\n",
    "print(f\"Fibonacci sequence up to {n} (recursive): {recursive_result}\")\n",
    "\n"
   ]
  },
  {
   "cell_type": "code",
   "execution_count": null,
   "id": "ed1fc5d3",
   "metadata": {},
   "outputs": [],
   "source": []
  }
 ],
 "metadata": {
  "kernelspec": {
   "display_name": "Python 3 (ipykernel)",
   "language": "python",
   "name": "python3"
  },
  "language_info": {
   "codemirror_mode": {
    "name": "ipython",
    "version": 3
   },
   "file_extension": ".py",
   "mimetype": "text/x-python",
   "name": "python",
   "nbconvert_exporter": "python",
   "pygments_lexer": "ipython3",
   "version": "3.10.13"
  }
 },
 "nbformat": 4,
 "nbformat_minor": 5
}
